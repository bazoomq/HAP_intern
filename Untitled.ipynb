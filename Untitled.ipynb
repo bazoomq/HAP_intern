{
 "cells": [
  {
   "cell_type": "code",
   "execution_count": 1,
   "metadata": {},
   "outputs": [],
   "source": [
    "from matplotlib import pyplot as plt\n",
    "import numpy as np\n",
    "from scipy.special import hyp2f1\n",
    "from density import density\n",
    "from calculate_rp import interpolate, get_sr\n",
    "import pandas as pd"
   ]
  },
  {
   "cell_type": "code",
   "execution_count": 2,
   "metadata": {},
   "outputs": [],
   "source": [
    "h = 10000\n",
    "\n",
    "g = 9.8065\n",
    "L0 = 24.06031 * g\n",
    "\n",
    "ro_atm = density(h)[0]\n",
    "ro_gas = density(h)[1]\n",
    "b = (ro_atm - ro_gas) * g \n",
    "\n",
    "wp = 0.229158\n",
    "\n",
    "rp_max = 6.122831\n",
    "s1 = 2 * hyp2f1(1/4, 1/2, 5/4, 1) * rp_max\n",
    "ds = 0.002"
   ]
  },
  {
   "cell_type": "code",
   "execution_count": 3,
   "metadata": {},
   "outputs": [],
   "source": [
    "def get_rp(s, gt):\n",
    "    return float(gt.loc[s])"
   ]
  },
  {
   "cell_type": "code",
   "execution_count": 4,
   "metadata": {},
   "outputs": [],
   "source": [
    "from scipy.interpolate import interp1d\n",
    "rs, s_half = get_sr(rp_max)\n",
    "f = interp1d(s_half, rs, kind='cubic')"
   ]
  },
  {
   "cell_type": "code",
   "execution_count": 9,
   "metadata": {
    "scrolled": false
   },
   "outputs": [
    {
     "ename": "SyntaxError",
     "evalue": "'break' outside loop (<ipython-input-9-37c6b8df0060>, line 20)",
     "output_type": "error",
     "traceback": [
      "\u001b[1;36m  File \u001b[1;32m\"<ipython-input-9-37c6b8df0060>\"\u001b[1;36m, line \u001b[1;32m20\u001b[0m\n\u001b[1;33m    2 * np.pi * r * w * cos,\u001b[0m\n\u001b[1;37m           ^\u001b[0m\n\u001b[1;31mSyntaxError\u001b[0m\u001b[1;31m:\u001b[0m 'break' outside loop\n"
     ]
    }
   ],
   "source": [
    "from scipy.integrate import solve_ivp\n",
    "\n",
    "\n",
    "def solve(theta0, a):  \n",
    "    def func(t, y):\n",
    "        if t <= s1 / 2:\n",
    "            rp = f(t)\n",
    "        else:\n",
    "            rp = f(s1 - t)\n",
    "        if r > 0:    \n",
    "            theta, T, z, r = y\n",
    "            w = rp / (r + 0.0000000001) * wp\n",
    "            p = b * (z - a)\n",
    "            sin = np.sin(theta)\n",
    "            cos = np.cos(theta)\n",
    "        else:\n",
    "            break\n",
    "        return [\n",
    "            - 2 * np.pi * r * (w * sin + p) / T,\n",
    "            2 * np.pi * r * w * cos,\n",
    "            cos,\n",
    "            sin\n",
    "        ]\n",
    "\n",
    "    T0 = L0 / np.cos(theta0)\n",
    "    z0, r0 = 0, 0\n",
    "\n",
    "    sol = solve_ivp(func, t_span=[0, s1], y0=[theta0, T0, z0, r0], t_eval=np.arange(0, s1, ds))\n",
    "    \n",
    "    return sol.y, sol.t"
   ]
  },
  {
   "cell_type": "code",
   "execution_count": 6,
   "metadata": {},
   "outputs": [
    {
     "data": {
      "text/plain": [
       "391.209716685185"
      ]
     },
     "execution_count": 6,
     "metadata": {},
     "output_type": "execute_result"
    }
   ],
   "source": [
    "np.degrees(solve(np.radians(25.9), 4.7)[0][0][-1])"
   ]
  },
  {
   "cell_type": "code",
   "execution_count": 8,
   "metadata": {
    "scrolled": false
   },
   "outputs": [],
   "source": [
    "for i in np.arange(np.radians(0), np.radians(90), np.radians(0.1)):\n",
    "    for j in np.arange(0, 10, 0.05):\n",
    "        theta, T, z, r = solve(i, j)[0]\n",
    "        if  -91 < np.degrees(theta[-1]) < -89 and -0.1 < r[-1] < 0.1:\n",
    "            print(np.degrees(i), j, np.degrees(theta[-1]))\n",
    "            plt.plot(z, r)\n",
    "            plt.show()"
   ]
  },
  {
   "cell_type": "code",
   "execution_count": null,
   "metadata": {},
   "outputs": [],
   "source": []
  },
  {
   "cell_type": "code",
   "execution_count": null,
   "metadata": {},
   "outputs": [],
   "source": []
  },
  {
   "cell_type": "code",
   "execution_count": null,
   "metadata": {},
   "outputs": [],
   "source": []
  },
  {
   "cell_type": "code",
   "execution_count": null,
   "metadata": {},
   "outputs": [],
   "source": [
    "rs, s_half = get_sr(rp_max)\n",
    "\n",
    "s = interpolate(s_half, r, rp_max)[0]\n",
    "rp = interpolate(s_half, r, rp_max)[1]\n",
    "sdf = pd.DataFrame(s, columns=['s'])\n",
    "rpdf = pd.DataFrame(rp, columns=['rp'])\n",
    "gt = pd.concat([sdf, rpdf], axis=1)\n",
    "last_point = {'s': s1, 'rp': 0.0}\n",
    "gt = gt.append(last_point, ignore_index=True)\n",
    "# gt = gt.round(4)\n",
    "gt = gt.set_index('s')"
   ]
  },
  {
   "cell_type": "code",
   "execution_count": null,
   "metadata": {},
   "outputs": [],
   "source": []
  },
  {
   "cell_type": "code",
   "execution_count": null,
   "metadata": {},
   "outputs": [],
   "source": []
  }
 ],
 "metadata": {
  "kernelspec": {
   "display_name": "Python 3",
   "language": "python",
   "name": "python3"
  },
  "language_info": {
   "codemirror_mode": {
    "name": "ipython",
    "version": 3
   },
   "file_extension": ".py",
   "mimetype": "text/x-python",
   "name": "python",
   "nbconvert_exporter": "python",
   "pygments_lexer": "ipython3",
   "version": "3.7.6"
  }
 },
 "nbformat": 4,
 "nbformat_minor": 4
}
