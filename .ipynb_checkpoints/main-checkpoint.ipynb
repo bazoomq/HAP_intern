{
 "cells": [
  {
   "cell_type": "code",
   "execution_count": 1,
   "metadata": {},
   "outputs": [],
   "source": [
    "from matplotlib import pyplot as plt\n",
    "import numpy as np\n",
    "from scipy.special import hyp2f1\n",
    "from density import density\n",
    "from calculate_rp import interpolate, get_sr\n",
    "import pandas as pd"
   ]
  },
  {
   "cell_type": "code",
   "execution_count": 2,
   "metadata": {},
   "outputs": [],
   "source": [
    "#h = 10300\n",
    "\n",
    "g = 9.8065\n",
    "L0 = 24.06031 * g\n",
    "\n",
    "wp = 0.229158\n",
    "\n",
    "rp_max = 6.122831\n",
    "l = 2 * hyp2f1(1/4, 1/2, 5/4, 1) * rp_max\n",
    "ds = 0.002"
   ]
  },
  {
   "cell_type": "code",
   "execution_count": 3,
   "metadata": {},
   "outputs": [],
   "source": [
    "def b(h):\n",
    "    ro_atm = density(h)[0]\n",
    "    ro_gas = density(h)[1]\n",
    "    b = (ro_atm - ro_gas) * g \n",
    "    return b"
   ]
  },
  {
   "cell_type": "code",
   "execution_count": 4,
   "metadata": {},
   "outputs": [],
   "source": [
    "from scipy.interpolate import interp1d\n",
    "rs, s_half = get_sr(rp_max)\n",
    "f = interp1d(s_half, rs, kind='cubic')"
   ]
  },
  {
   "cell_type": "code",
   "execution_count": 5,
   "metadata": {
    "scrolled": false
   },
   "outputs": [],
   "source": [
    "from scipy.integrate import solve_ivp\n",
    "\n",
    "\n",
    "def Solve(theta0, a, h):  \n",
    "    def func(t, y):\n",
    "        if t <= l / 2:\n",
    "            rp = f(t)\n",
    "        else:\n",
    "            rp = f(l - t)   \n",
    "        theta, T, z, r = y\n",
    "        p = b(h) * (z - a)\n",
    "        sin = np.sin(theta)\n",
    "        cos = np.cos(theta)\n",
    "        return [\n",
    "            - 2 * np.pi * (rp * wp * sin + p * r) / T,\n",
    "            2 * np.pi * rp * wp * cos,\n",
    "            cos,\n",
    "            sin\n",
    "        ]\n",
    "\n",
    "    T0 = L0 / np.cos(theta0)\n",
    "    z0, r0 = 0, 0\n",
    "\n",
    "    sol = solve_ivp(func, t_span=[0, l], y0=[theta0, T0, z0, r0], t_eval=np.arange(0, l, ds))\n",
    "    \n",
    "    return sol.y, sol.t"
   ]
  },
  {
   "cell_type": "code",
   "execution_count": 11,
   "metadata": {},
   "outputs": [
    {
     "data": {
      "text/plain": [
       "array([[ 5.00000000e+00,  5.00000083e+00,  5.00000332e+00, ...,\n",
       "        -1.08172990e+01, -1.08105781e+01, -1.08038494e+01],\n",
       "       [ 1.35704315e+04,  1.35704317e+04,  1.35704322e+04, ...,\n",
       "         1.83959443e+04,  1.83959449e+04,  1.83959451e+04],\n",
       "       [ 0.00000000e+00,  1.14155503e-01,  2.28311007e-01, ...,\n",
       "         9.11019028e+02,  9.11131584e+02,  9.11244143e+02],\n",
       "       [ 0.00000000e+00,  9.98731299e-03,  1.99746293e-02, ...,\n",
       "        -2.13951338e+01, -2.14166335e+01, -2.14381200e+01]])"
      ]
     },
     "execution_count": 11,
     "metadata": {},
     "output_type": "execute_result"
    }
   ],
   "source": [
    "np.degrees(Solve(np.radians(5), 4.7, 20300)[0])"
   ]
  },
  {
   "cell_type": "code",
   "execution_count": 6,
   "metadata": {
    "scrolled": false
   },
   "outputs": [],
   "source": [
    "def GridSearch(h, theta_max):\n",
    "    optimal_z, optimal_r, theta0, loss_min = [], [], 90, 100\n",
    "    for i in np.arange(np.radians(theta_max), np.radians(0), - np.radians(0.1)):\n",
    "        for j in np.arange(0, 10, 0.5):\n",
    "            theta, T, z, r = Solve(i, j, h)[0]\n",
    "            if  -91 < np.degrees(theta[-1]) < -89 and -0.1 < r[-1] < 0.1:\n",
    "                loss = np.sqrt((- np.pi / 2 - theta[-1])**2 + r[-1]**2) \n",
    "                print(loss)\n",
    "                if loss < loss_min:\n",
    "                    loss_min = loss\n",
    "                    optimal_z = z\n",
    "                    optimal_r = r\n",
    "                    theta0 = np.degrees(i)\n",
    "    return [optimal_z, optimal_r, theta0, loss_min]"
   ]
  },
  {
   "cell_type": "code",
   "execution_count": 7,
   "metadata": {},
   "outputs": [],
   "source": [
    "theta_max = 90"
   ]
  },
  {
   "cell_type": "code",
   "execution_count": 9,
   "metadata": {},
   "outputs": [
    {
     "name": "stdout",
     "output_type": "stream",
     "text": [
      "0.0897335499429585\n",
      "0.0816018153140503\n",
      "0.054894677517789994\n",
      "0.030877716962183\n",
      "0.02073874176591273\n"
     ]
    },
    {
     "data": {
      "text/plain": [
       "[array([0.00000000e+00, 1.83132516e-03, 3.66265020e-03, ...,\n",
       "        1.18356502e+01, 1.18356912e+01, 1.18357323e+01]),\n",
       " array([0.        , 0.0008039 , 0.00160779, ..., 0.00693756, 0.00493799,\n",
       "        0.00293842]),\n",
       " 23.700000000004124,\n",
       " 0.02073874176591273]"
      ]
     },
     "execution_count": 9,
     "metadata": {},
     "output_type": "execute_result"
    }
   ],
   "source": [
    "GridSearch(19000, theta_max)"
   ]
  },
  {
   "cell_type": "code",
   "execution_count": 10,
   "metadata": {},
   "outputs": [
    {
     "name": "stdout",
     "output_type": "stream",
     "text": [
      "0.06898340013161804\n",
      "0.05127266360282962\n"
     ]
    },
    {
     "data": {
      "text/plain": [
       "[array([0.00000000e+00, 1.95844561e-03, 3.91689116e-03, ...,\n",
       "        1.26163204e+01, 1.26164116e+01, 1.26165027e+01]),\n",
       " array([0.        , 0.00040557, 0.00081115, ..., 0.02744946, 0.02545154,\n",
       "        0.02345362]),\n",
       " 11.70000000000487,\n",
       " 0.05127266360282962]"
      ]
     },
     "execution_count": 10,
     "metadata": {},
     "output_type": "execute_result"
    }
   ],
   "source": [
    "GridSearch(17000, theta_max)"
   ]
  },
  {
   "cell_type": "code",
   "execution_count": 12,
   "metadata": {},
   "outputs": [
    {
     "name": "stdout",
     "output_type": "stream",
     "text": [
      "0.07301423507305672\n",
      "0.04125154232968861\n",
      "0.015616560106982293\n",
      "0.009418879671832352\n"
     ]
    },
    {
     "data": {
      "text/plain": [
       "[array([0.00000000e+00, 1.21475168e-03, 2.42950335e-03, ...,\n",
       "        1.01236409e+01, 1.01236521e+01, 1.01236633e+01]),\n",
       " array([ 0.        ,  0.00158883,  0.00317766, ..., -0.00356972,\n",
       "        -0.00556971, -0.00756968]),\n",
       " 52.6000000000017,\n",
       " 0.009418879671832352]"
      ]
     },
     "execution_count": 12,
     "metadata": {},
     "output_type": "execute_result"
    }
   ],
   "source": [
    "GridSearch(21500, 80)"
   ]
  },
  {
   "cell_type": "code",
   "execution_count": 13,
   "metadata": {},
   "outputs": [
    {
     "name": "stdout",
     "output_type": "stream",
     "text": [
      "0.07301423507305672\n",
      "0.04125154232968861\n",
      "0.015616560106982293\n",
      "0.009418879671832352\n"
     ]
    },
    {
     "data": {
      "text/plain": [
       "[array([0.00000000e+00, 1.21475168e-03, 2.42950335e-03, ...,\n",
       "        1.01236409e+01, 1.01236521e+01, 1.01236633e+01]),\n",
       " array([ 0.        ,  0.00158883,  0.00317766, ..., -0.00356972,\n",
       "        -0.00556971, -0.00756968]),\n",
       " 52.6000000000017,\n",
       " 0.009418879671832352]"
      ]
     },
     "execution_count": 13,
     "metadata": {},
     "output_type": "execute_result"
    }
   ],
   "source": [
    "GridSearch(21500, 80)"
   ]
  },
  {
   "cell_type": "code",
   "execution_count": 23,
   "metadata": {},
   "outputs": [
    {
     "name": "stdout",
     "output_type": "stream",
     "text": [
      "90\n",
      "Height:  20000 Loss:  0.03358055804226683\n"
     ]
    },
    {
     "data": {
      "image/png": "[encoded data removed]",
      "text/plain": [
       "<Figure size 432x288 with 1 Axes>"
      ]
     },
     "metadata": {
      "needs_background": "light"
     },
     "output_type": "display_data"
    },
    {
     "name": "stdout",
     "output_type": "stream",
     "text": [
      "293.9616947174072\n"
     ]
    }
   ],
   "source": [
    "import time\n",
    "start=time.time()\n",
    "for h in range(20000, 19000, -1000):\n",
    "    print(theta_max)\n",
    "    z, r, theta_max, loss = GridSearch(h, theta_max)\n",
    "    print(\"Height: \", h, \"Loss: \", loss)\n",
    "    plt.plot(z, r)\n",
    "    plt.show()\n",
    "stop = time.time()\n",
    "\n",
    "print(stop-start)"
   ]
  },
  {
   "cell_type": "code",
   "execution_count": 19,
   "metadata": {},
   "outputs": [
    {
     "data": {
      "text/plain": [
       "1.9240242495232391"
      ]
     },
     "execution_count": 19,
     "metadata": {},
     "output_type": "execute_result"
    }
   ],
   "source": [
    "np.degrees(0.03358055804239346)"
   ]
  },
  {
   "cell_type": "code",
   "execution_count": 10,
   "metadata": {},
   "outputs": [],
   "source": [
    "def theta(h):\n",
    "    optimal_z, optimal_r, theta0, loss_min = [], [], 90, 100\n",
    "    for i in np.arange(np.radians(0), np.radians(theta_max), np.radians(0.1)): \n",
    "        for j in np.arange(0, 10, 0.5):\n",
    "            theta, T, z, r = Solve(i, j, h)[0]\n",
    "            loss = np.sqrt((- np.pi / 2 - theta[-1])**2 + r[-1]**2)\n",
    "            if loss < loss_min:\n",
    "                loss_min = loss\n",
    "                optimal_theta = np.degrees(theta[-1])\n",
    "                a = j\n",
    "                theta0 = np.degrees(i)\n",
    "                \n",
    "    return [optimal_theta, a, loss_min, theta0]"
   ]
  },
  {
   "cell_type": "code",
   "execution_count": 11,
   "metadata": {},
   "outputs": [
    {
     "data": {
      "text/plain": [
       "[-85.79824820377631, 4.5, 0.0748088692773435, 3.5]"
      ]
     },
     "execution_count": 11,
     "metadata": {},
     "output_type": "execute_result"
    }
   ],
   "source": [
    "theta(2000)"
   ]
  },
  {
   "cell_type": "code",
   "execution_count": 19,
   "metadata": {},
   "outputs": [
    {
     "data": {
      "text/plain": [
       "[-88.09592184911546, 4.0, 0.03358055804239346, 31.4]"
      ]
     },
     "execution_count": 19,
     "metadata": {},
     "output_type": "execute_result"
    }
   ],
   "source": [
    "theta(20000)"
   ]
  },
  {
   "cell_type": "code",
   "execution_count": 26,
   "metadata": {},
   "outputs": [
    {
     "name": "stdout",
     "output_type": "stream",
     "text": [
      "Height:  24000 Last theta:  -70.29239148543151 a:  0.0 theta0:  46.0 total loss:  0.35176400300534827\n",
      "Height:  23500 Last theta:  -74.58653164391639 a:  0.0 theta0:  48.1 total loss:  0.27401127858037744\n",
      "Height:  23000 Last theta:  -78.65181108242928 a:  0.0 theta0:  50.0 total loss:  0.19964825915251933\n",
      "Height:  22500 Last theta:  -82.92635419556821 a:  0.0 theta0:  51.900000000000006 total loss:  0.12616313835849727\n",
      "Height:  22000 Last theta:  -86.96447214174688 a:  0.0 theta0:  53.7 total loss:  0.053085524254001856\n",
      "Height:  21500 Last theta:  -89.67886109578505 a:  0.5 theta0:  52.6 total loss:  0.009418879672808663\n",
      "Height:  21000 Last theta:  -90.1129598391547 a:  2.0 theta0:  45.2 total loss:  0.0019767580269537868\n",
      "Height:  20500 Last theta:  -90.1961927499471 a:  3.0 theta0:  38.900000000000006 total loss:  0.00348886440386276\n",
      "Height:  20000 Last theta:  -88.09592184911546 a:  4.0 theta0:  31.4 total loss:  0.03358055804239346\n",
      "Height:  19500 Last theta:  -88.75955950262457 a:  4.5 theta0:  27.6 total loss:  0.022017923347480144\n",
      "Height:  19000 Last theta:  -88.82374525846947 a:  5.0 theta0:  23.700000000000003 total loss:  0.02073874176613849\n",
      "Height:  18500 Last theta:  -87.94502338982966 a:  5.5 theta0:  19.500000000000004 total loss:  0.0433167033356111\n",
      "Height:  18000 Last theta:  -86.20300197631656 a:  6.0 theta0:  15.7 total loss:  0.06958881289071188\n",
      "Height:  17500 Last theta:  -91.52858330161416 a:  6.0 theta0:  15.5 total loss:  0.028509548320576675\n",
      "Height:  17000 Last theta:  -87.38765562656012 a:  6.5 theta0:  11.700000000000001 total loss:  0.051272663602760324\n",
      "Height:  16500 Last theta:  -93.18177353057159 a:  6.5 theta0:  11.4 total loss:  0.061043008212713676\n"
     ]
    }
   ],
   "source": [
    "theta_arr = []\n",
    "a_arr = []\n",
    "for h in range(24000, 16000, -500):\n",
    "    thet, a, loss, theta0 = theta(h)\n",
    "    theta_arr.append(thet)\n",
    "    a_arr.append(a)\n",
    "    print(\"Height: \", h, \"Last theta: \", thet, \"a: \", a, \"theta0: \", theta0, \"total loss: \", loss) "
   ]
  },
  {
   "cell_type": "markdown",
   "metadata": {},
   "source": [
    "14:52 - start\n",
    "14:54 - 24\n",
    "14:56 - 23.5\n",
    "14:59 - 23\n",
    "15:01 - 22.5\n",
    "15:04 - 22\n",
    "15:05 - 21.5\n",
    "15:08 - 21\n",
    "15:13 - 20\n",
    "15:16 - 19\n",
    "15:23 - 18\n",
    "15:27 - 17\n",
    "15:30 - 16.5 end"
   ]
  },
  {
   "cell_type": "code",
   "execution_count": 28,
   "metadata": {},
   "outputs": [
    {
     "data": {
      "text/plain": [
       "[<matplotlib.lines.Line2D at 0x20c283e2e88>]"
      ]
     },
     "execution_count": 28,
     "metadata": {},
     "output_type": "execute_result"
    },
    {
     "data": {
      "image/png": "[encoded data removed]",
      "text/plain": [
       "<Figure size 432x288 with 1 Axes>"
      ]
     },
     "metadata": {
      "needs_background": "light"
     },
     "output_type": "display_data"
    }
   ],
   "source": [
    "h = range(24000, 16000, -500)\n",
    "plt.plot(h, theta_arr)"
   ]
  },
  {
   "cell_type": "code",
   "execution_count": 29,
   "metadata": {},
   "outputs": [
    {
     "data": {
      "text/plain": [
       "[<matplotlib.lines.Line2D at 0x20c28477bc8>]"
      ]
     },
     "execution_count": 29,
     "metadata": {},
     "output_type": "execute_result"
    },
    {
     "data": {
      "image/png": "[encoded data removed]",
      "text/plain": [
       "<Figure size 432x288 with 1 Axes>"
      ]
     },
     "metadata": {
      "needs_background": "light"
     },
     "output_type": "display_data"
    }
   ],
   "source": [
    "plt.plot(h, a_arr)"
   ]
  },
  {
   "cell_type": "code",
   "execution_count": 30,
   "metadata": {},
   "outputs": [],
   "source": [
    "theta0_arr = [46.0, 48.1, 50.0, 51.9, 53.7, 52.6, 45.2, 38.9, 31.4, 27.6, 23.7, 19.5, 15.7, 15.5, 11.7, 11.4]"
   ]
  },
  {
   "cell_type": "code",
   "execution_count": 31,
   "metadata": {},
   "outputs": [
    {
     "data": {
      "text/plain": [
       "[<matplotlib.lines.Line2D at 0x20c2854b308>]"
      ]
     },
     "execution_count": 31,
     "metadata": {},
     "output_type": "execute_result"
    },
    {
     "data": {
      "image/png": "[encoded data removed]",
      "text/plain": [
       "<Figure size 432x288 with 1 Axes>"
      ]
     },
     "metadata": {
      "needs_background": "light"
     },
     "output_type": "display_data"
    }
   ],
   "source": [
    "plt.plot(h, theta0_arr)"
   ]
  },
  {
   "cell_type": "code",
   "execution_count": null,
   "metadata": {},
   "outputs": [],
   "source": [
    "for h in range(24000, 21500, -500):\n",
    "    thet, a, loss, theta0 = theta(h)\n",
    "    theta_arr.append(thet)\n",
    "    a_arr.append(a)\n",
    "    print(\"Height: \", h, \"Last theta: \", thet, \"a: \", a, \"theta0: \", theta0, \"total loss: \", loss) "
   ]
  },
  {
   "cell_type": "code",
   "execution_count": null,
   "metadata": {},
   "outputs": [],
   "source": [
    "7\n"
   ]
  }
 ],
 "metadata": {
  "kernelspec": {
   "display_name": "Python 3",
   "language": "python",
   "name": "python3"
  },
  "language_info": {
   "codemirror_mode": {
    "name": "ipython",
    "version": 3
   },
   "file_extension": ".py",
   "mimetype": "text/x-python",
   "name": "python",
   "nbconvert_exporter": "python",
   "pygments_lexer": "ipython3",
   "version": "3.7.6"
  }
 },
 "nbformat": 4,
 "nbformat_minor": 4
}
