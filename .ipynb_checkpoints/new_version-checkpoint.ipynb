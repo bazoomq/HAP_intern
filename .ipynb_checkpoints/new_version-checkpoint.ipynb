{
 "cells": [
  {
   "cell_type": "code",
   "execution_count": 1,
   "metadata": {},
   "outputs": [],
   "source": [
    "from matplotlib import pyplot as plt\n",
    "import numpy as np\n",
    "from scipy.special import hyp2f1\n",
    "from density import density\n",
    "from calculate_rp import get_sr\n",
    "import pandas as pd\n",
    "from multiprocessing import Pool"
   ]
  },
  {
   "cell_type": "code",
   "execution_count": 2,
   "metadata": {},
   "outputs": [],
   "source": [
    "#h = 10300\n",
    "\n",
    "g = 9.8065\n",
    "L0 = 24.06031 * g\n",
    "\n",
    "wp = 0.229158\n",
    "\n",
    "rp_max = 6.122831\n",
    "l = 2 * hyp2f1(1/4, 1/2, 5/4, 1) * rp_max\n",
    "ds = 0.002"
   ]
  },
  {
   "cell_type": "code",
   "execution_count": 3,
   "metadata": {},
   "outputs": [],
   "source": [
    "def b(h):\n",
    "    ro_atm = density(h)[0]\n",
    "    ro_gas = density(h)[1]\n",
    "    b = (ro_atm - ro_gas) * g \n",
    "    return b"
   ]
  },
  {
   "cell_type": "code",
   "execution_count": 4,
   "metadata": {},
   "outputs": [],
   "source": [
    "from scipy.interpolate import interp1d\n",
    "rs, s_half = get_sr(rp_max)\n",
    "f = interp1d(s_half, rs, kind='cubic')"
   ]
  },
  {
   "cell_type": "code",
   "execution_count": 5,
   "metadata": {},
   "outputs": [],
   "source": [
    "from scipy.integrate import solve_ivp\n",
    "\n",
    "\n",
    "def Solve(theta0, a, h):  \n",
    "    def func(t, y):\n",
    "        if t <= l / 2:\n",
    "            rp = f(t)\n",
    "        else:\n",
    "            rp = f(l - t)   \n",
    "        theta, T, z, r = y\n",
    "        p = b(h) * (z - a)\n",
    "        sin = np.sin(theta)\n",
    "        cos = np.cos(theta)\n",
    "        return [\n",
    "            - 2 * np.pi * (rp * wp * sin + p * r) / T,\n",
    "            2 * np.pi * rp * wp * cos,\n",
    "            cos,\n",
    "            sin\n",
    "        ]\n",
    "\n",
    "    T0 = L0 / np.cos(theta0)\n",
    "    z0, r0 = 0, 0\n",
    "\n",
    "    sol = solve_ivp(func, t_span=[0, l], y0=[theta0, T0, z0, r0], t_eval=np.arange(0, l, ds))\n",
    "    \n",
    "    return sol.y, sol.t"
   ]
  },
  {
   "cell_type": "code",
   "execution_count": 6,
   "metadata": {},
   "outputs": [],
   "source": [
    "def get_grid(theta_max, a_min, step_theta, step_a):\n",
    "    grid = []\n",
    "    for i in np.arange(np.radians(theta_max), np.radians(0), - np.radians(step_theta)):\n",
    "        for j in np.arange(10, a_min, -step_a):\n",
    "            grid.append([np.degrees(i), j])\n",
    "    return grid"
   ]
  },
  {
   "cell_type": "code",
   "execution_count": 16,
   "metadata": {},
   "outputs": [],
   "source": [
    "theta_max = 50\n",
    "a_min = 0\n",
    "step_theta = 0.1\n",
    "step_a = 0.5\n",
    "\n",
    "grid = get_grid(theta_max, a_min, step_theta, step_a)"
   ]
  },
  {
   "cell_type": "code",
   "execution_count": 19,
   "metadata": {},
   "outputs": [],
   "source": [
    "def GridSearch(grid, h):\n",
    "    optimal_z, optimal_r, theta0, loss_min = [], [], 90, 10\n",
    "    for i in grid:\n",
    "        with Pool(5) as p:\n",
    "            theta, T, z, r = p.map(Solve(i[0], i[1], h)[0], ?)\n",
    "        if  -95 < np.degrees(theta[-1]) < -85 and -0.1 < r[-1] < 0.1:\n",
    "            loss = np.sqrt(((np.pi / 2 + theta[-1]) / (np.pi / 2)) ** 2 + r[-1]**2)\n",
    "            print(loss)\n",
    "            if loss < loss_min:\n",
    "                loss_min = loss\n",
    "                optimal_z = z\n",
    "                optimal_r = r\n",
    "                theta0 = np.degrees(i)\n",
    "        \n",
    "    return [optimal_z, optimal_r, theta0, loss_min]"
   ]
  },
  {
   "cell_type": "code",
   "execution_count": 20,
   "metadata": {},
   "outputs": [
    {
     "name": "stdout",
     "output_type": "stream",
     "text": [
      "Height:  20000 Loss:  10 Theta0:  90\n"
     ]
    },
    {
     "data": {
      "image/png": "[encoded data removed]",
      "text/plain": [
       "<Figure size 432x288 with 1 Axes>"
      ]
     },
     "metadata": {
      "needs_background": "light"
     },
     "output_type": "display_data"
    }
   ],
   "source": [
    "z, r, theta0, loss = GridSearch(grid, 20000)\n",
    "print(\"Height: \", 20000, \"Loss: \", loss, \"Theta0: \", theta0)\n",
    "plt.plot(z, r)\n",
    "plt.show()"
   ]
  },
  {
   "cell_type": "code",
   "execution_count": null,
   "metadata": {},
   "outputs": [],
   "source": []
  }
 ],
 "metadata": {
  "kernelspec": {
   "display_name": "Python 3",
   "language": "python",
   "name": "python3"
  },
  "language_info": {
   "codemirror_mode": {
    "name": "ipython",
    "version": 3
   },
   "file_extension": ".py",
   "mimetype": "text/x-python",
   "name": "python",
   "nbconvert_exporter": "python",
   "pygments_lexer": "ipython3",
   "version": "3.7.6"
  }
 },
 "nbformat": 4,
 "nbformat_minor": 4
}
